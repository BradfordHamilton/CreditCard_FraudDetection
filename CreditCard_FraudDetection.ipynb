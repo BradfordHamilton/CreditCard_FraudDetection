{
 "cells": [
  {
   "metadata": {},
   "cell_type": "markdown",
   "source": [
    "\n",
    "# Credit Card Fraud Detection\n",
    "\n",
    "The objective of this project is to create a machine learning model that successfully predicts whether or not a transaction is fraudulent or not. The goal is to achieve a 99% accuracy or above."
   ],
   "id": "75680e7e0a333edf"
  },
  {
   "metadata": {
    "ExecuteTime": {
     "end_time": "2025-10-22T22:38:44.788451Z",
     "start_time": "2025-10-22T22:38:44.785538Z"
    }
   },
   "cell_type": "code",
   "source": [
    "from statistics import linear_regression\n",
    "\n",
    "#Loading our python libraries\n",
    "import pandas as pd\n",
    "import numpy as np\n",
    "from sklearn.model_selection import train_test_split, StratifiedKFold, GridSearchCV\n",
    "from sklearn.preprocessing import StandardScaler\n",
    "from sklearn.metrics import confusion_matrix, classification_report, roc_auc_score, precision_recall_curve\n",
    "from sklearn.ensemble import RandomForestClassifier, GradientBoostingClassifier\n",
    "from sklearn.linear_model import LogisticRegression\n",
    "\n",
    "# Visualization\n",
    "import matplotlib.pyplot as plt\n",
    "import seaborn as sns"
   ],
   "id": "6dffb34e0b933c61",
   "outputs": [],
   "execution_count": 93
  },
  {
   "metadata": {
    "ExecuteTime": {
     "end_time": "2025-10-22T22:38:45.112002Z",
     "start_time": "2025-10-22T22:38:44.795166Z"
    }
   },
   "cell_type": "code",
   "source": [
    "#Load in our dataset and read the top 8 columns\n",
    "df = pd.read_csv('card_transdata_danush.csv')\n",
    "df.head(8)"
   ],
   "id": "5624289893168ffa",
   "outputs": [
    {
     "data": {
      "text/plain": [
       "   distance_from_home  distance_from_last_transaction  \\\n",
       "0           57.877857                        0.311140   \n",
       "1           10.829943                        0.175592   \n",
       "2            5.091079                        0.805153   \n",
       "3            2.247564                        5.600044   \n",
       "4           44.190936                        0.566486   \n",
       "5            5.586408                       13.261073   \n",
       "6            3.724019                        0.956838   \n",
       "7            4.848247                        0.320735   \n",
       "\n",
       "   ratio_to_median_purchase_price  repeat_retailer  used_chip  \\\n",
       "0                        1.945940              1.0        1.0   \n",
       "1                        1.294219              1.0        0.0   \n",
       "2                        0.427715              1.0        0.0   \n",
       "3                        0.362663              1.0        1.0   \n",
       "4                        2.222767              1.0        1.0   \n",
       "5                        0.064768              1.0        0.0   \n",
       "6                        0.278465              1.0        0.0   \n",
       "7                        1.273050              1.0        0.0   \n",
       "\n",
       "   used_pin_number  online_order  fraud  \n",
       "0              0.0           0.0    0.0  \n",
       "1              0.0           0.0    0.0  \n",
       "2              0.0           1.0    0.0  \n",
       "3              0.0           1.0    0.0  \n",
       "4              0.0           1.0    0.0  \n",
       "5              0.0           0.0    0.0  \n",
       "6              0.0           1.0    0.0  \n",
       "7              1.0           0.0    0.0  "
      ],
      "text/html": [
       "<div>\n",
       "<style scoped>\n",
       "    .dataframe tbody tr th:only-of-type {\n",
       "        vertical-align: middle;\n",
       "    }\n",
       "\n",
       "    .dataframe tbody tr th {\n",
       "        vertical-align: top;\n",
       "    }\n",
       "\n",
       "    .dataframe thead th {\n",
       "        text-align: right;\n",
       "    }\n",
       "</style>\n",
       "<table border=\"1\" class=\"dataframe\">\n",
       "  <thead>\n",
       "    <tr style=\"text-align: right;\">\n",
       "      <th></th>\n",
       "      <th>distance_from_home</th>\n",
       "      <th>distance_from_last_transaction</th>\n",
       "      <th>ratio_to_median_purchase_price</th>\n",
       "      <th>repeat_retailer</th>\n",
       "      <th>used_chip</th>\n",
       "      <th>used_pin_number</th>\n",
       "      <th>online_order</th>\n",
       "      <th>fraud</th>\n",
       "    </tr>\n",
       "  </thead>\n",
       "  <tbody>\n",
       "    <tr>\n",
       "      <th>0</th>\n",
       "      <td>57.877857</td>\n",
       "      <td>0.311140</td>\n",
       "      <td>1.945940</td>\n",
       "      <td>1.0</td>\n",
       "      <td>1.0</td>\n",
       "      <td>0.0</td>\n",
       "      <td>0.0</td>\n",
       "      <td>0.0</td>\n",
       "    </tr>\n",
       "    <tr>\n",
       "      <th>1</th>\n",
       "      <td>10.829943</td>\n",
       "      <td>0.175592</td>\n",
       "      <td>1.294219</td>\n",
       "      <td>1.0</td>\n",
       "      <td>0.0</td>\n",
       "      <td>0.0</td>\n",
       "      <td>0.0</td>\n",
       "      <td>0.0</td>\n",
       "    </tr>\n",
       "    <tr>\n",
       "      <th>2</th>\n",
       "      <td>5.091079</td>\n",
       "      <td>0.805153</td>\n",
       "      <td>0.427715</td>\n",
       "      <td>1.0</td>\n",
       "      <td>0.0</td>\n",
       "      <td>0.0</td>\n",
       "      <td>1.0</td>\n",
       "      <td>0.0</td>\n",
       "    </tr>\n",
       "    <tr>\n",
       "      <th>3</th>\n",
       "      <td>2.247564</td>\n",
       "      <td>5.600044</td>\n",
       "      <td>0.362663</td>\n",
       "      <td>1.0</td>\n",
       "      <td>1.0</td>\n",
       "      <td>0.0</td>\n",
       "      <td>1.0</td>\n",
       "      <td>0.0</td>\n",
       "    </tr>\n",
       "    <tr>\n",
       "      <th>4</th>\n",
       "      <td>44.190936</td>\n",
       "      <td>0.566486</td>\n",
       "      <td>2.222767</td>\n",
       "      <td>1.0</td>\n",
       "      <td>1.0</td>\n",
       "      <td>0.0</td>\n",
       "      <td>1.0</td>\n",
       "      <td>0.0</td>\n",
       "    </tr>\n",
       "    <tr>\n",
       "      <th>5</th>\n",
       "      <td>5.586408</td>\n",
       "      <td>13.261073</td>\n",
       "      <td>0.064768</td>\n",
       "      <td>1.0</td>\n",
       "      <td>0.0</td>\n",
       "      <td>0.0</td>\n",
       "      <td>0.0</td>\n",
       "      <td>0.0</td>\n",
       "    </tr>\n",
       "    <tr>\n",
       "      <th>6</th>\n",
       "      <td>3.724019</td>\n",
       "      <td>0.956838</td>\n",
       "      <td>0.278465</td>\n",
       "      <td>1.0</td>\n",
       "      <td>0.0</td>\n",
       "      <td>0.0</td>\n",
       "      <td>1.0</td>\n",
       "      <td>0.0</td>\n",
       "    </tr>\n",
       "    <tr>\n",
       "      <th>7</th>\n",
       "      <td>4.848247</td>\n",
       "      <td>0.320735</td>\n",
       "      <td>1.273050</td>\n",
       "      <td>1.0</td>\n",
       "      <td>0.0</td>\n",
       "      <td>1.0</td>\n",
       "      <td>0.0</td>\n",
       "      <td>0.0</td>\n",
       "    </tr>\n",
       "  </tbody>\n",
       "</table>\n",
       "</div>"
      ]
     },
     "execution_count": 94,
     "metadata": {},
     "output_type": "execute_result"
    }
   ],
   "execution_count": 94
  },
  {
   "metadata": {},
   "cell_type": "markdown",
   "source": "By just glancing at this it looks like we have an imbalanced dataset for our target variable(fraud). Lets double check below.",
   "id": "a1c307b8bfbe523b"
  },
  {
   "metadata": {
    "ExecuteTime": {
     "end_time": "2025-10-22T22:38:45.693898Z",
     "start_time": "2025-10-22T22:38:45.116424Z"
    }
   },
   "cell_type": "code",
   "source": [
    "# Count of each class\n",
    "print(df['fraud'].value_counts())\n",
    "# Percentage of each class\n",
    "print(df['fraud'].value_counts(normalize=True))\n",
    "\n",
    "sns.countplot(x='fraud', data=df)\n",
    "plt.title('Distribution of Fraud vs Non-Fraud Transactions')\n",
    "plt.show()"
   ],
   "id": "aeb43583369f4cd7",
   "outputs": [
    {
     "name": "stdout",
     "output_type": "stream",
     "text": [
      "fraud\n",
      "0.0    912597\n",
      "1.0     87403\n",
      "Name: count, dtype: int64\n",
      "fraud\n",
      "0.0    0.912597\n",
      "1.0    0.087403\n",
      "Name: proportion, dtype: float64\n"
     ]
    },
    {
     "data": {
      "text/plain": [
       "<Figure size 640x480 with 1 Axes>"
      ],
      "image/png": "[encoded data removed]"
     },
     "metadata": {},
     "output_type": "display_data",
     "jetTransient": {
      "display_id": null
     }
    }
   ],
   "execution_count": 95
  },
  {
   "metadata": {},
   "cell_type": "markdown",
   "source": [
    "Under 10% of our target variable is fraudulent. This means we can confirm that the dataset is imbalanced. This means that we can get a model that is over 90% accurate at guessing fraudulent vs nonfraudulent transaction just by saying nonfraudulent everytime. This is not what we want. We want a model that is accurate at predicting fraudulent transactions when they are in fact fraudulent.\n",
    "\n",
    "To deal with this imbalance in our data we will undersample our transactions that our not fraudulent and create a new smaller dataset that has equal numbers of fraudulent and nonfraudulent transactions."
   ],
   "id": "3face0e2299cfbff"
  },
  {
   "metadata": {
    "ExecuteTime": {
     "end_time": "2025-10-22T22:38:45.723726Z",
     "start_time": "2025-10-22T22:38:45.697031Z"
    }
   },
   "cell_type": "code",
   "source": [
    "#Separate fraud and non-fraud parts of our dataset\n",
    "fraud = df[df['fraud']==1]\n",
    "non_fraud = df[df['fraud']==0]\n",
    "\n",
    "#Create a smaller version of the non_fraud entries to match the number of fraudulent entries\n",
    "non_fraud_reduced = non_fraud.sample(n=len(fraud), random_state=42)\n",
    "\n",
    "#Combine non_fraud_reduced with fraud\n",
    "df_balanced = pd.concat([fraud, non_fraud_reduced])\n",
    "#Shuffle the dataset so that the entries are randomized\n",
    "df_balanced = df_balanced.sample(frac=1,random_state=42).reset_index(drop=True)"
   ],
   "id": "c358161fccd73f47",
   "outputs": [],
   "execution_count": 96
  },
  {
   "metadata": {
    "ExecuteTime": {
     "end_time": "2025-10-22T22:38:45.732282Z",
     "start_time": "2025-10-22T22:38:45.727444Z"
    }
   },
   "cell_type": "code",
   "source": "df_balanced.head(10)",
   "id": "473aa23de31c1bfd",
   "outputs": [
    {
     "data": {
      "text/plain": [
       "   distance_from_home  distance_from_last_transaction  \\\n",
       "0            8.668889                        0.725783   \n",
       "1           28.501728                        1.629492   \n",
       "2           15.161964                        0.027713   \n",
       "3            3.294325                        0.700697   \n",
       "4           76.742356                        0.321263   \n",
       "5           44.286714                        0.092786   \n",
       "6           46.924529                       17.738667   \n",
       "7           17.007461                        3.380928   \n",
       "8           19.059266                        0.241115   \n",
       "9            6.954744                        2.592445   \n",
       "\n",
       "   ratio_to_median_purchase_price  repeat_retailer  used_chip  \\\n",
       "0                       11.439120              1.0        1.0   \n",
       "1                       11.710914              1.0        0.0   \n",
       "2                        0.914625              1.0        0.0   \n",
       "3                        1.829264              1.0        0.0   \n",
       "4                        0.177628              1.0        1.0   \n",
       "5                        5.389702              1.0        0.0   \n",
       "6                        6.668987              1.0        1.0   \n",
       "7                       12.311901              1.0        0.0   \n",
       "8                        1.961128              1.0        0.0   \n",
       "9                        8.245415              1.0        0.0   \n",
       "\n",
       "   used_pin_number  online_order  fraud  \n",
       "0              0.0           1.0    1.0  \n",
       "1              0.0           1.0    1.0  \n",
       "2              0.0           0.0    0.0  \n",
       "3              0.0           0.0    0.0  \n",
       "4              0.0           0.0    0.0  \n",
       "5              0.0           1.0    1.0  \n",
       "6              0.0           0.0    0.0  \n",
       "7              0.0           1.0    1.0  \n",
       "8              0.0           0.0    0.0  \n",
       "9              0.0           1.0    1.0  "
      ],
      "text/html": [
       "<div>\n",
       "<style scoped>\n",
       "    .dataframe tbody tr th:only-of-type {\n",
       "        vertical-align: middle;\n",
       "    }\n",
       "\n",
       "    .dataframe tbody tr th {\n",
       "        vertical-align: top;\n",
       "    }\n",
       "\n",
       "    .dataframe thead th {\n",
       "        text-align: right;\n",
       "    }\n",
       "</style>\n",
       "<table border=\"1\" class=\"dataframe\">\n",
       "  <thead>\n",
       "    <tr style=\"text-align: right;\">\n",
       "      <th></th>\n",
       "      <th>distance_from_home</th>\n",
       "      <th>distance_from_last_transaction</th>\n",
       "      <th>ratio_to_median_purchase_price</th>\n",
       "      <th>repeat_retailer</th>\n",
       "      <th>used_chip</th>\n",
       "      <th>used_pin_number</th>\n",
       "      <th>online_order</th>\n",
       "      <th>fraud</th>\n",
       "    </tr>\n",
       "  </thead>\n",
       "  <tbody>\n",
       "    <tr>\n",
       "      <th>0</th>\n",
       "      <td>8.668889</td>\n",
       "      <td>0.725783</td>\n",
       "      <td>11.439120</td>\n",
       "      <td>1.0</td>\n",
       "      <td>1.0</td>\n",
       "      <td>0.0</td>\n",
       "      <td>1.0</td>\n",
       "      <td>1.0</td>\n",
       "    </tr>\n",
       "    <tr>\n",
       "      <th>1</th>\n",
       "      <td>28.501728</td>\n",
       "      <td>1.629492</td>\n",
       "      <td>11.710914</td>\n",
       "      <td>1.0</td>\n",
       "      <td>0.0</td>\n",
       "      <td>0.0</td>\n",
       "      <td>1.0</td>\n",
       "      <td>1.0</td>\n",
       "    </tr>\n",
       "    <tr>\n",
       "      <th>2</th>\n",
       "      <td>15.161964</td>\n",
       "      <td>0.027713</td>\n",
       "      <td>0.914625</td>\n",
       "      <td>1.0</td>\n",
       "      <td>0.0</td>\n",
       "      <td>0.0</td>\n",
       "      <td>0.0</td>\n",
       "      <td>0.0</td>\n",
       "    </tr>\n",
       "    <tr>\n",
       "      <th>3</th>\n",
       "      <td>3.294325</td>\n",
       "      <td>0.700697</td>\n",
       "      <td>1.829264</td>\n",
       "      <td>1.0</td>\n",
       "      <td>0.0</td>\n",
       "      <td>0.0</td>\n",
       "      <td>0.0</td>\n",
       "      <td>0.0</td>\n",
       "    </tr>\n",
       "    <tr>\n",
       "      <th>4</th>\n",
       "      <td>76.742356</td>\n",
       "      <td>0.321263</td>\n",
       "      <td>0.177628</td>\n",
       "      <td>1.0</td>\n",
       "      <td>1.0</td>\n",
       "      <td>0.0</td>\n",
       "      <td>0.0</td>\n",
       "      <td>0.0</td>\n",
       "    </tr>\n",
       "    <tr>\n",
       "      <th>5</th>\n",
       "      <td>44.286714</td>\n",
       "      <td>0.092786</td>\n",
       "      <td>5.389702</td>\n",
       "      <td>1.0</td>\n",
       "      <td>0.0</td>\n",
       "      <td>0.0</td>\n",
       "      <td>1.0</td>\n",
       "      <td>1.0</td>\n",
       "    </tr>\n",
       "    <tr>\n",
       "      <th>6</th>\n",
       "      <td>46.924529</td>\n",
       "      <td>17.738667</td>\n",
       "      <td>6.668987</td>\n",
       "      <td>1.0</td>\n",
       "      <td>1.0</td>\n",
       "      <td>0.0</td>\n",
       "      <td>0.0</td>\n",
       "      <td>0.0</td>\n",
       "    </tr>\n",
       "    <tr>\n",
       "      <th>7</th>\n",
       "      <td>17.007461</td>\n",
       "      <td>3.380928</td>\n",
       "      <td>12.311901</td>\n",
       "      <td>1.0</td>\n",
       "      <td>0.0</td>\n",
       "      <td>0.0</td>\n",
       "      <td>1.0</td>\n",
       "      <td>1.0</td>\n",
       "    </tr>\n",
       "    <tr>\n",
       "      <th>8</th>\n",
       "      <td>19.059266</td>\n",
       "      <td>0.241115</td>\n",
       "      <td>1.961128</td>\n",
       "      <td>1.0</td>\n",
       "      <td>0.0</td>\n",
       "      <td>0.0</td>\n",
       "      <td>0.0</td>\n",
       "      <td>0.0</td>\n",
       "    </tr>\n",
       "    <tr>\n",
       "      <th>9</th>\n",
       "      <td>6.954744</td>\n",
       "      <td>2.592445</td>\n",
       "      <td>8.245415</td>\n",
       "      <td>1.0</td>\n",
       "      <td>0.0</td>\n",
       "      <td>0.0</td>\n",
       "      <td>1.0</td>\n",
       "      <td>1.0</td>\n",
       "    </tr>\n",
       "  </tbody>\n",
       "</table>\n",
       "</div>"
      ]
     },
     "execution_count": 97,
     "metadata": {},
     "output_type": "execute_result"
    }
   ],
   "execution_count": 97
  },
  {
   "metadata": {
    "ExecuteTime": {
     "end_time": "2025-10-22T22:38:45.888092Z",
     "start_time": "2025-10-22T22:38:45.736621Z"
    }
   },
   "cell_type": "code",
   "source": [
    "# Count of each class\n",
    "print(df_balanced['fraud'].value_counts())\n",
    "# Percentage of each class\n",
    "print(df_balanced['fraud'].value_counts(normalize=True))\n",
    "\n",
    "#palette = {\"0\": \"blue\", \"1\": \"red\"}\n",
    "\n",
    "sns.countplot(x='fraud', data=df_balanced)\n",
    "plt.title('Distribution of Fraud vs Non-Fraud Transactions')\n",
    "plt.show()"
   ],
   "id": "e3cecb72b916968f",
   "outputs": [
    {
     "name": "stdout",
     "output_type": "stream",
     "text": [
      "fraud\n",
      "1.0    87403\n",
      "0.0    87403\n",
      "Name: count, dtype: int64\n",
      "fraud\n",
      "1.0    0.5\n",
      "0.0    0.5\n",
      "Name: proportion, dtype: float64\n"
     ]
    },
    {
     "data": {
      "text/plain": [
       "<Figure size 640x480 with 1 Axes>"
      ],
      "image/png": "[encoded data removed]"
     },
     "metadata": {},
     "output_type": "display_data",
     "jetTransient": {
      "display_id": null
     }
    }
   ],
   "execution_count": 98
  },
  {
   "metadata": {},
   "cell_type": "markdown",
   "source": "Now as you can see above we have an equal number of fraudulent and non-fraudulent transactions in our new dataset. The downside of this is that we have reduced the total number of entries in our dataset from 1,000,000 to 87403.",
   "id": "66703915e2510b3a"
  },
  {
   "metadata": {
    "ExecuteTime": {
     "end_time": "2025-10-22T22:38:45.917102Z",
     "start_time": "2025-10-22T22:38:45.894994Z"
    }
   },
   "cell_type": "code",
   "source": [
    "#Check for duplicates\n",
    "# Check total number of duplicate rows\n",
    "duplicates_count = df_balanced.duplicated().sum()\n",
    "print(f\"Number of duplicate rows: {duplicates_count}\")"
   ],
   "id": "c0f26401943df0b3",
   "outputs": [
    {
     "name": "stdout",
     "output_type": "stream",
     "text": [
      "Number of duplicate rows: 0\n"
     ]
    }
   ],
   "execution_count": 99
  },
  {
   "metadata": {},
   "cell_type": "markdown",
   "source": [
    "# Check total number of duplicate rows\n",
    "duplicates_count = df_balanced.duplicated().sum()\n",
    "print(f\"Number of duplicate rows: {duplicates_count}\")## Defining our training data"
   ],
   "id": "78a89d901b29d428"
  },
  {
   "metadata": {
    "ExecuteTime": {
     "end_time": "2025-10-22T22:38:45.952513Z",
     "start_time": "2025-10-22T22:38:45.920479Z"
    }
   },
   "cell_type": "code",
   "source": [
    "#First we will separate our feature and target\n",
    "X = df_balanced.drop('fraud', axis=1)\n",
    "y = df_balanced['fraud']\n",
    "\n",
    "#Now we'll use train test split to separate our entries into 80% training and 20% testing data\n",
    "X_train, X_test, y_train, y_test = train_test_split(X,y, test_size=0.2, random_state=42, stratify=y)\n"
   ],
   "id": "efc068d9aa52745e",
   "outputs": [],
   "execution_count": 100
  },
  {
   "metadata": {},
   "cell_type": "markdown",
   "source": "First we will train a classification model with logistic regression to establish a baseline model before trying more advanced techniques like Gradient Boosting",
   "id": "c0776ccb906e314f"
  },
  {
   "metadata": {
    "ExecuteTime": {
     "end_time": "2025-10-22T22:38:45.998458Z",
     "start_time": "2025-10-22T22:38:45.955386Z"
    }
   },
   "cell_type": "code",
   "source": [
    "#Scale the Features(Logistic regression benefits from this)\n",
    "scaler = StandardScaler()\n",
    "\n",
    "X_train_scaled = scaler.fit_transform(X_train)\n",
    "X_test_scaled = scaler.transform(X_test)\n",
    "\n",
    "#Train the Logistic Regression Model\n",
    "logreg = LogisticRegression()\n",
    "logreg.fit(X_train_scaled, y_train)\n",
    "\n",
    "#Making Predictions\n",
    "y_pred = logreg.predict(X_test_scaled)\n",
    "y_proba = logreg.predict_proba(X_test_scaled)[:, 1]"
   ],
   "id": "859ac05498efa57f",
   "outputs": [],
   "execution_count": 101
  },
  {
   "metadata": {},
   "cell_type": "markdown",
   "source": "Now Lets Evaluate the model",
   "id": "68349eb297c0f4ab"
  },
  {
   "metadata": {
    "ExecuteTime": {
     "end_time": "2025-10-22T22:38:46.023121Z",
     "start_time": "2025-10-22T22:38:46.002692Z"
    }
   },
   "cell_type": "code",
   "source": [
    "print(\"Confusion Matrix:\\n\", confusion_matrix(y_test, y_pred))\n",
    "print(\"\\nClassification Report:\\n\", classification_report(y_test, y_pred))\n",
    "print(\"ROC AUC Score:\", roc_auc_score(y_test, y_proba))"
   ],
   "id": "8061299d9a317c5e",
   "outputs": [
    {
     "name": "stdout",
     "output_type": "stream",
     "text": [
      "Confusion Matrix:\n",
      " [[16349  1132]\n",
      " [  896 16585]]\n",
      "\n",
      "Classification Report:\n",
      "               precision    recall  f1-score   support\n",
      "\n",
      "         0.0       0.95      0.94      0.94     17481\n",
      "         1.0       0.94      0.95      0.94     17481\n",
      "\n",
      "    accuracy                           0.94     34962\n",
      "   macro avg       0.94      0.94      0.94     34962\n",
      "weighted avg       0.94      0.94      0.94     34962\n",
      "\n",
      "ROC AUC Score: 0.9791361504388294\n"
     ]
    }
   ],
   "execution_count": 102
  },
  {
   "metadata": {},
   "cell_type": "markdown",
   "source": [
    "The F1-score of this logistic regression model is 0.94, which indicates a strong balance between precision (the proportion of predicted fraud cases that are actually fraud) and recall (the proportion of actual fraud cases that were correctly identified).\n",
    "\n",
    "In other words, the model is correctly detecting the majority of fraudulent transactions while minimizing false alarms. This makes it a reliable model for fraud detection in this dataset."
   ],
   "id": "499419012ea0f091"
  },
  {
   "metadata": {},
   "cell_type": "markdown",
   "source": "## Now lets try Gradient Boosting to see if we can get some better results.",
   "id": "3086183e1a2f1aed"
  },
  {
   "metadata": {
    "ExecuteTime": {
     "end_time": "2025-10-22T22:38:58.063809Z",
     "start_time": "2025-10-22T22:38:46.025868Z"
    }
   },
   "cell_type": "code",
   "source": [
    "#First we will separate our feature and target\n",
    "X = df_balanced.drop('fraud', axis=1)\n",
    "y = df_balanced['fraud']\n",
    "\n",
    "#Now we'll use train test split to separate our entries into 80% training and 20% testing data\n",
    "X_train, X_test, y_train, y_test = train_test_split(X,y, test_size=0.2, random_state=42, stratify=y)\n",
    "\n",
    "# We've already defined our train and test sets\n",
    "\n",
    "from sklearn.ensemble import GradientBoostingClassifier\n",
    "\n",
    "# Initialize model\n",
    "gb_model = GradientBoostingClassifier(\n",
    "    n_estimators=100,\n",
    "    learning_rate=0.1,\n",
    "    max_features=None,\n",
    "    max_leaf_nodes=None,\n",
    "    random_state=41\n",
    ")\n",
    "\n",
    "# Train the model\n",
    "gb_model.fit(X_train, y_train)\n",
    "\n",
    "# Make predictions\n",
    "y_pred = gb_model.predict(X_test)\n",
    "y_proba = gb_model.predict_proba(X_test)[:, 1]  # probability of class 1"
   ],
   "id": "c26e0dae05362e81",
   "outputs": [],
   "execution_count": 103
  },
  {
   "metadata": {
    "ExecuteTime": {
     "end_time": "2025-10-22T22:38:58.086617Z",
     "start_time": "2025-10-22T22:38:58.067918Z"
    }
   },
   "cell_type": "code",
   "source": [
    "#Evaluate our Gradient Boosting Model\n",
    "print(f\"Confusion Matrix:\\n{confusion_matrix(y_test, y_pred)}\\n\")\n",
    "print(f\"Classification Report:\\n{classification_report(y_test, y_pred)}\\n\")\n",
    "print(f\"ROC AUC Score: {roc_auc_score(y_test, y_proba):.4f}\")\n"
   ],
   "id": "ac55531152a355a0",
   "outputs": [
    {
     "name": "stdout",
     "output_type": "stream",
     "text": [
      "Confusion Matrix:\n",
      "[[17416    65]\n",
      " [    0 17481]]\n",
      "\n",
      "Classification Report:\n",
      "              precision    recall  f1-score   support\n",
      "\n",
      "         0.0       1.00      1.00      1.00     17481\n",
      "         1.0       1.00      1.00      1.00     17481\n",
      "\n",
      "    accuracy                           1.00     34962\n",
      "   macro avg       1.00      1.00      1.00     34962\n",
      "weighted avg       1.00      1.00      1.00     34962\n",
      "\n",
      "\n",
      "ROC AUC Score: 1.0000\n"
     ]
    }
   ],
   "execution_count": 104
  },
  {
   "metadata": {},
   "cell_type": "markdown",
   "source": "100% Acurracy is good but concerning. Lets double check with more decimals below to make sure this is right.",
   "id": "8961987072b67603"
  },
  {
   "metadata": {
    "ExecuteTime": {
     "end_time": "2025-10-22T22:38:58.120932Z",
     "start_time": "2025-10-22T22:38:58.094317Z"
    }
   },
   "cell_type": "code",
   "source": [
    "\n",
    "# Confusion Matrix\n",
    "cm = confusion_matrix(y_test, y_pred)\n",
    "print(f\"Confusion Matrix:\\n{cm}\\n\")\n",
    "\n",
    "# Classification Report with 10 decimals\n",
    "report_dict = classification_report(y_test, y_pred, output_dict=True)\n",
    "print(\"Classification Report:\")\n",
    "for cls, metrics in report_dict.items():\n",
    "    if isinstance(metrics, dict):\n",
    "        print(f\"{cls}:\")\n",
    "        for metric_name, value in metrics.items():\n",
    "            print(f\"  {metric_name}: {value:.10f}\")\n",
    "    else:  # For 'accuracy'\n",
    "        print(f\"{cls}: {metrics:.10f}\")\n",
    "\n",
    "# ROC AUC Score with 10 decimals\n",
    "roc_auc = roc_auc_score(y_test, y_proba)\n",
    "print(f\"\\nROC AUC Score: {roc_auc:.10f}\")\n",
    "\n",
    "# Optional: individual metrics also formatted\n",
    "print(\"\\nIndividual Metrics:\")\n",
    "print(f\"Accuracy:  {accuracy_score(y_test, y_pred):.10f}\")\n",
    "print(f\"Precision: {precision_score(y_test, y_pred):.10f}\")\n",
    "print(f\"Recall:    {recall_score(y_test, y_pred):.10f}\")\n",
    "print(f\"F1-score:  {f1_score(y_test, y_pred):.10f}\")"
   ],
   "id": "49b610b816de6d52",
   "outputs": [
    {
     "name": "stdout",
     "output_type": "stream",
     "text": [
      "Confusion Matrix:\n",
      "[[17416    65]\n",
      " [    0 17481]]\n",
      "\n",
      "Classification Report:\n",
      "0.0:\n",
      "  precision: 1.0000000000\n",
      "  recall: 0.9962816772\n",
      "  f1-score: 0.9981373757\n",
      "  support: 17481.0000000000\n",
      "1.0:\n",
      "  precision: 0.9962954520\n",
      "  recall: 1.0000000000\n",
      "  f1-score: 0.9981442887\n",
      "  support: 17481.0000000000\n",
      "accuracy: 0.9981408386\n",
      "macro avg:\n",
      "  precision: 0.9981477260\n",
      "  recall: 0.9981408386\n",
      "  f1-score: 0.9981408322\n",
      "  support: 34962.0000000000\n",
      "weighted avg:\n",
      "  precision: 0.9981477260\n",
      "  recall: 0.9981408386\n",
      "  f1-score: 0.9981408322\n",
      "  support: 34962.0000000000\n",
      "\n",
      "ROC AUC Score: 0.9999979449\n",
      "\n",
      "Individual Metrics:\n",
      "Accuracy:  0.9981408386\n",
      "Precision: 0.9962954520\n",
      "Recall:    1.0000000000\n",
      "F1-score:  0.9981442887\n"
     ]
    }
   ],
   "execution_count": 105
  },
  {
   "metadata": {},
   "cell_type": "markdown",
   "source": [
    "## Conclusion\n",
    "We have developed a Gradient Boosted model that achieves 99% accuracy in predicting credit card fraud, compared to a benchmark logistic regression model with an F1 score of 0.95 on the same dataset. When considering deployment in a real-time system, the tradeoff between computational cost and improved accuracy must be evaluated. Given the high stakes associated with credit card fraud, the additional accuracy provided by the Gradient Boosted model is likely worthwhile, even if it requires more computational resources."
   ],
   "id": "1b26499a676d17b1"
  }
 ],
 "metadata": {
  "kernelspec": {
   "display_name": "Python 3",
   "language": "python",
   "name": "python3"
  },
  "language_info": {
   "codemirror_mode": {
    "name": "ipython",
    "version": 2
   },
   "file_extension": ".py",
   "mimetype": "text/x-python",
   "name": "python",
   "nbconvert_exporter": "python",
   "pygments_lexer": "ipython2",
   "version": "2.7.6"
  }
 },
 "nbformat": 4,
 "nbformat_minor": 5
}
